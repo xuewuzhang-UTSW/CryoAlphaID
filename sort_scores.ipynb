{
 "cells": [
  {
   "cell_type": "markdown",
   "id": "e833a93d-8996-4082-9604-1ced503d964e",
   "metadata": {},
   "source": [
    "This Jupyter notebook calculates the scores of the docked PDB. You need to run the \"run_colores.py\" script to dock the PDB before running this. It also requires the \"pdb_stats.csv\" file from the \"get_pdb_info.ipynb\" notebook, containing 2nd structure information of all the PDBs. It can be run as soon as \"run_colores.py\" is started. You may get the correct solution early. The second cell requires the results from the \"calculate_fsc.py\".  You can run this notebook and \"calculate_fsc.py\" iteratively while \"run_colores.py\" is still running."
   ]
  },
  {
   "cell_type": "code",
   "execution_count": 113,
   "id": "3f2f61f5-81b1-40b1-ac7e-4f61c883370e",
   "metadata": {},
   "outputs": [
    {
     "data": {
      "text/plain": [
       "21615"
      ]
     },
     "execution_count": 113,
     "metadata": {},
     "output_type": "execute_result"
    }
   ],
   "source": [
    "import pandas as pd\n",
    "from glob import glob\n",
    "import os\n",
    "pd.set_option('display.max_rows', 200)\n",
    "pd.set_option('display.max_colwidth',1000)\n",
    "\n",
    "pdbs = []\n",
    "\n",
    "for d in glob(\"00*colores_results\"):\n",
    "    pdbs.extend(glob(f\"{d}/*pdb\"))\n",
    "\n",
    "results = []\n",
    "for pdb in pdbs:\n",
    "    pdb_basename = os.path.basename(pdb)\n",
    "    folder_name = os.path.dirname(pdb)\n",
    "    with open(pdb) as f:\n",
    "        for line in f:\n",
    "            if \"Unnormalized\" in line:\n",
    "                CC = round(float(line.split()[-1]),3)\n",
    "                break\n",
    "    results.append([pdb_basename, folder_name, CC])\n",
    "    \n",
    "results_df = pd.DataFrame(results, columns=[\"name\", \"Folder\", \"CC\"])\n",
    "\n",
    "pdb_stats = pd.read_csv('pdb_stats.csv')\n",
    "results_merged_df = pd.merge(results_df, pdb_stats, on='name')\n",
    "results_merged_df.sort_values([\"CC\", \"helix%\"], ascending=False, inplace=True, ignore_index=True)\n",
    "results_merged_df.to_csv(\"colores_CC.csv\", index=False, sep=\"\\t\")\n",
    "len(set(results_merged_df[\"name\"].str[:-17]))"
   ]
  },
  {
   "cell_type": "code",
   "execution_count": 116,
   "id": "0dacf07e-d7f1-42c6-891b-f8474724182c",
   "metadata": {},
   "outputs": [
    {
     "data": {
      "text/plain": [
       "64080"
      ]
     },
     "execution_count": 116,
     "metadata": {},
     "output_type": "execute_result"
    }
   ],
   "source": [
    "#Run \"calculate_fsc.py\" in a shell with EMAN2 activated before running the following cells\n",
    "\n",
    "if not os.path.isfile(\"resolution_scores.txt\"):\n",
    "    os.system(\"touch resolution_scores.txt\")\n",
    "resolution_scores = pd.read_csv('resolution_scores.txt', header=None, sep=\"\\s+\", names=[\"name\",\"Folder\",\"Res_FSC05\", \"Res_FSC02\"], usecols=[\"name\", \"Res_FSC05\", \"Res_FSC02\"])\n",
    "results_merged_res_df = pd.merge(results_merged_df, resolution_scores, on='name', how=\"inner\")\n",
    "results_merged_res_df.sort_values([\"Res_FSC02\", \"Res_FSC05\"], inplace=True, ignore_index=True)\n",
    "results_merged_res_df[\"name\"] = results_merged_res_df[\"Folder\"] + \"/\" + results_merged_res_df[\"name\"]\n",
    "results_merged_res_df.drop(labels=[\"Folder\"], axis=1, inplace=True)\n",
    "results_merged_res_df.to_csv(\"colores_CC_wRes.csv\", index=False, sep=\"\\t\")\n",
    "len(results_merged_res_df)"
   ]
  },
  {
   "cell_type": "code",
   "execution_count": null,
   "id": "f9bd24b4-9eaa-4c32-ba1b-905ada6485b7",
   "metadata": {},
   "outputs": [],
   "source": []
  },
  {
   "cell_type": "code",
   "execution_count": null,
   "id": "1f16e59c-b0d6-44ac-8066-431fb6d9d89e",
   "metadata": {},
   "outputs": [],
   "source": []
  },
  {
   "cell_type": "code",
   "execution_count": null,
   "id": "18276cef-98a5-4d25-9532-1960bafcf566",
   "metadata": {},
   "outputs": [],
   "source": []
  }
 ],
 "metadata": {
  "kernelspec": {
   "display_name": "Python 3 (ipykernel)",
   "language": "python",
   "name": "python3"
  },
  "language_info": {
   "codemirror_mode": {
    "name": "ipython",
    "version": 3
   },
   "file_extension": ".py",
   "mimetype": "text/x-python",
   "name": "python",
   "nbconvert_exporter": "python",
   "pygments_lexer": "ipython3",
   "version": "3.10.9"
  }
 },
 "nbformat": 4,
 "nbformat_minor": 5
}
