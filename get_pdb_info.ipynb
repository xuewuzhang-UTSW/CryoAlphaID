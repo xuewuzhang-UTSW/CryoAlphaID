{
 "cells": [
  {
   "cell_type": "code",
   "execution_count": null,
   "id": "4b6a7112-41d1-4063-b1f1-8dea051c517a",
   "metadata": {},
   "outputs": [],
   "source": [
    "This notebook uses \"DSSP\" (need to be installed separately) to calculate the 2nd structure of the PDBs.\n",
    "The output file \"pdb_stats.csv\" contains the 2nd info of all the PDBs. It only need to be run once for one PDB dataset.  "
   ]
  },
  {
   "cell_type": "code",
   "execution_count": 18,
   "id": "ce8da36c-4181-4123-8a9b-90f0b9adf126",
   "metadata": {},
   "outputs": [],
   "source": [
    "import pandas as pd\n",
    "from glob import glob\n",
    "import os\n",
    "\n",
    "pdbs = []\n",
    "\n",
    "for d in ['001','002','003','004']:\n",
    "    os.system(f'mkdir -p {d}_dssp')\n",
    "    pdbs.extend(glob(f\"{d}/*pdb\"))\n",
    "\n",
    "for pdb in pdbs:\n",
    "    out_folder = os.path.dirname(pdb) + \"_dssp\"\n",
    "    out_base_name = os.path.basename(pdb).split(\".\")[0]\n",
    "    out_name = f'./{out_folder}/{out_base_name}.dssp'\n",
    "    os.system(f'dssp -i {pdb} -o  {out_name}')"
   ]
  },
  {
   "cell_type": "code",
   "execution_count": 118,
   "id": "c19f68a8-838d-4309-808a-4deeb4c7295f",
   "metadata": {},
   "outputs": [],
   "source": [
    "dssp_files = []\n",
    "for d in ['001_dssp', '002_dssp', '003_dssp', '004_dssp']:\n",
    "    dssp_files.extend(glob(f'./{d}/*dssp'))\n",
    "\n",
    "dssp_stats = []\n",
    "for dssp in dssp_files:\n",
    "    dssp_base_name = os.path.basename(dssp).split('.')[0] \n",
    "    with open(dssp,'r') as f:\n",
    "        line_count = 0\n",
    "        structure_part = 0\n",
    "        H_count = 0\n",
    "        E_count = 0\n",
    "        for line in f:\n",
    "            if structure_part == 1:\n",
    "                if line[16] == 'H':\n",
    "                    H_count += 1\n",
    "                elif line[16] == 'E':\n",
    "                    E_count += 1\n",
    "                line_count += 1\n",
    "            if \"#\" in line:\n",
    "                structure_part = 1\n",
    "        H_percent = round(100*H_count/line_count)\n",
    "        E_percent = round(100*E_count/line_count)\n",
    "        for i in [1,2,3]:\n",
    "            pdb_name = f'{dssp_base_name}_col_best_{i:03d}.pdb'\n",
    "            dssp_stats.append([pdb_name,line_count, H_count, H_percent, E_count, E_percent])\n",
    "        \n",
    "dssp_stats_df = pd.DataFrame(dssp_stats, columns=['name', 'n_residues', 'n_helix', 'helix%', 'n_strand', 'strand%'])\n",
    "dssp_stats_df.to_csv('pdb_stats.csv', index=False)"
   ]
  },
  {
   "cell_type": "code",
   "execution_count": 119,
   "id": "3a73fdbf-9f52-4fcb-97a0-b5ccd18755e8",
   "metadata": {},
   "outputs": [
    {
     "data": {
      "text/plain": [
       "64845"
      ]
     },
     "execution_count": 119,
     "metadata": {},
     "output_type": "execute_result"
    }
   ],
   "source": [
    "len(dssp_stats_df)"
   ]
  },
  {
   "cell_type": "code",
   "execution_count": null,
   "id": "59fe25e7-996c-4fa7-ad4b-ff8ace02b066",
   "metadata": {},
   "outputs": [],
   "source": []
  }
 ],
 "metadata": {
  "kernelspec": {
   "display_name": "Python 3 (ipykernel)",
   "language": "python",
   "name": "python3"
  },
  "language_info": {
   "codemirror_mode": {
    "name": "ipython",
    "version": 3
   },
   "file_extension": ".py",
   "mimetype": "text/x-python",
   "name": "python",
   "nbconvert_exporter": "python",
   "pygments_lexer": "ipython3",
   "version": "3.10.9"
  }
 },
 "nbformat": 4,
 "nbformat_minor": 5
}
