{
 "cells": [
  {
   "cell_type": "code",
   "execution_count": 9,
   "id": "5ef14335-38aa-4dbe-99cd-5e336c103aee",
   "metadata": {},
   "outputs": [],
   "source": [
    "import mrcfile\n",
    "with mrcfile.open('postprocess_masked_job128_unassigned_cropped_tight_1_box48.mrc', permissive=True) as f:\n",
    "    data = f.data\n",
    "    header = f.header"
   ]
  },
  {
   "cell_type": "code",
   "execution_count": 10,
   "id": "121029ea-0355-4c00-8e2e-53b58a2d0a8d",
   "metadata": {},
   "outputs": [
    {
     "data": {
      "text/plain": [
       "0.03749853"
      ]
     },
     "execution_count": 10,
     "metadata": {},
     "output_type": "execute_result"
    }
   ],
   "source": [
    "data.max()"
   ]
  },
  {
   "cell_type": "code",
   "execution_count": 11,
   "id": "01e060df-ddcc-48e3-afa6-2bff1fec2440",
   "metadata": {},
   "outputs": [],
   "source": [
    "data_1 = data.copy()"
   ]
  },
  {
   "cell_type": "code",
   "execution_count": 12,
   "id": "696e4525-8865-4df6-ad83-0bf18d441889",
   "metadata": {},
   "outputs": [],
   "source": [
    "data_1[0,0,0]=0.011\n",
    "data_1[-1,-1,-1]=0.011"
   ]
  },
  {
   "cell_type": "code",
   "execution_count": 13,
   "id": "58628f0d-9ce7-4abf-a8a6-d24c9c383f56",
   "metadata": {},
   "outputs": [
    {
     "data": {
      "text/plain": [
       "-0.01687236"
      ]
     },
     "execution_count": 13,
     "metadata": {},
     "output_type": "execute_result"
    }
   ],
   "source": [
    "data_1.min()"
   ]
  },
  {
   "cell_type": "code",
   "execution_count": 14,
   "id": "f70c6b2e-2108-4b9e-a17f-dfd0b23313e2",
   "metadata": {},
   "outputs": [],
   "source": [
    "with mrcfile.new('postprocess_masked_job128_unassigned_cropped_tight_1_box48_1.mrc', overwrite=True) as f:\n",
    "    f.set_data(data_1)\n",
    "    f.header.cella=header.cella"
   ]
  },
  {
   "cell_type": "code",
   "execution_count": 15,
   "id": "aaa5116c-48c4-462f-b027-d1b4ce364882",
   "metadata": {},
   "outputs": [],
   "source": [
    "with mrcfile.open('postprocess_masked_job128_unassigned_cropped_tight_1_box48_1.mrc', permissive=True) as f:\n",
    "    data_new = f.data\n",
    "    header_new = f.header"
   ]
  },
  {
   "cell_type": "code",
   "execution_count": 16,
   "id": "e7cbdcb4-3bd5-4ab0-a0bf-7493ae142fc8",
   "metadata": {},
   "outputs": [
    {
     "data": {
      "text/plain": [
       "-0.01687236"
      ]
     },
     "execution_count": 16,
     "metadata": {},
     "output_type": "execute_result"
    }
   ],
   "source": [
    "data_new.min()"
   ]
  },
  {
   "cell_type": "code",
   "execution_count": 17,
   "id": "10b602c1-c1c4-4a6a-9300-4b1ba419e5e7",
   "metadata": {},
   "outputs": [
    {
     "data": {
      "text/plain": [
       "rec.array((48, 48, 48, 2, 0, 0, 0, 48, 48, 48, (103.583984, 103.584015, 103.584), (90., 90., 90.), 1, 2, 3, -0.01687236, 0.03749853, 0.00100295, 1, 0, b'\\x00\\x00\\x00\\x00\\x00\\x00\\x00\\x00', b'', 20141, b'\\x00\\x00\\x00\\x00\\x00\\x00\\x00\\x00\\x00\\x00\\x00\\x00\\x00\\x00\\x00\\x00\\x00\\x00\\x00\\x00\\x00\\x00\\x00\\x00\\x00\\x00\\x00\\x00\\x00\\x00\\x00\\x00\\x00\\x00\\x00\\x00\\x00\\x00\\x00\\x00\\x00\\x00\\x00\\x00\\x00\\x00\\x00\\x00\\x00\\x00\\x00\\x00\\x00\\x00\\x00\\x00\\x00\\x00\\x00\\x00\\x00\\x00\\x00\\x00\\x00\\x00\\x00\\x00\\x00\\x00\\x00\\x00\\x00\\x00\\x00\\x00\\x00\\x00\\x00\\x00\\x00\\x00\\x00\\x00', (0., 0., 0.), b'MAP ', [68, 68,  0,  0], 0.00361481, 1, [b'Created by mrcfile.py                                       2024-02-18 22:18:30 ', b'', b'', b'', b'', b'', b'', b'', b'', b'']),\n",
       "          dtype=[('nx', '<i4'), ('ny', '<i4'), ('nz', '<i4'), ('mode', '<i4'), ('nxstart', '<i4'), ('nystart', '<i4'), ('nzstart', '<i4'), ('mx', '<i4'), ('my', '<i4'), ('mz', '<i4'), ('cella', [('x', '<f4'), ('y', '<f4'), ('z', '<f4')]), ('cellb', [('alpha', '<f4'), ('beta', '<f4'), ('gamma', '<f4')]), ('mapc', '<i4'), ('mapr', '<i4'), ('maps', '<i4'), ('dmin', '<f4'), ('dmax', '<f4'), ('dmean', '<f4'), ('ispg', '<i4'), ('nsymbt', '<i4'), ('extra1', 'V8'), ('exttyp', 'S4'), ('nversion', '<i4'), ('extra2', 'V84'), ('origin', [('x', '<f4'), ('y', '<f4'), ('z', '<f4')]), ('map', 'S4'), ('machst', 'u1', (4,)), ('rms', '<f4'), ('nlabl', '<i4'), ('label', 'S80', (10,))])"
      ]
     },
     "execution_count": 17,
     "metadata": {},
     "output_type": "execute_result"
    }
   ],
   "source": [
    "header_new"
   ]
  },
  {
   "cell_type": "code",
   "execution_count": 18,
   "id": "4063f458-0921-43ab-8baf-b21d7076c69b",
   "metadata": {},
   "outputs": [
    {
     "data": {
      "text/plain": [
       "0.011"
      ]
     },
     "execution_count": 18,
     "metadata": {},
     "output_type": "execute_result"
    }
   ],
   "source": [
    "data_new[0,0,0]"
   ]
  },
  {
   "cell_type": "code",
   "execution_count": 19,
   "id": "d2c3d046-5c88-4fc4-afba-ea3198f0450c",
   "metadata": {},
   "outputs": [
    {
     "data": {
      "text/plain": [
       "0.011"
      ]
     },
     "execution_count": 19,
     "metadata": {},
     "output_type": "execute_result"
    }
   ],
   "source": [
    "data_new[-1,-1,-1]"
   ]
  },
  {
   "cell_type": "code",
   "execution_count": null,
   "id": "f1a68f55-5df7-4cec-b6c8-9c0648100154",
   "metadata": {},
   "outputs": [],
   "source": []
  }
 ],
 "metadata": {
  "kernelspec": {
   "display_name": "Python 3 (ipykernel)",
   "language": "python",
   "name": "python3"
  },
  "language_info": {
   "codemirror_mode": {
    "name": "ipython",
    "version": 3
   },
   "file_extension": ".py",
   "mimetype": "text/x-python",
   "name": "python",
   "nbconvert_exporter": "python",
   "pygments_lexer": "ipython3",
   "version": "3.10.9"
  }
 },
 "nbformat": 4,
 "nbformat_minor": 5
}
